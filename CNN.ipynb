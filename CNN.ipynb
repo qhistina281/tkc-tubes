{
  "cells": [
    {
      "cell_type": "code",
      "execution_count": null,
      "metadata": {
        "colab": {
          "base_uri": "https://localhost:8080/"
        },
        "id": "B9kuRL7PIJ0z",
        "outputId": "a96ff936-fcef-41cb-c45a-f0a517aadec9"
      },
      "outputs": [
        {
          "output_type": "stream",
          "name": "stdout",
          "text": [
            "Mounted at /content/drive\n"
          ]
        }
      ],
      "source": [
        "from google.colab import drive\n",
        "drive.mount('/content/drive')"
      ]
    },
    {
      "cell_type": "code",
      "execution_count": null,
      "metadata": {
        "colab": {
          "base_uri": "https://localhost:8080/"
        },
        "id": "A6loS6gpIKpg",
        "outputId": "e2e3778c-1c73-4929-9093-bbc497e0da7b"
      },
      "outputs": [
        {
          "output_type": "stream",
          "name": "stdout",
          "text": [
            "/content/drive/My Drive/Praktikum ML/Project Kelompok\n"
          ]
        }
      ],
      "source": [
        "%cd /content/drive/My Drive/Praktikum ML/Project Kelompok"
      ]
    },
    {
      "cell_type": "code",
      "execution_count": null,
      "metadata": {
        "id": "NAruZU9lIKrn"
      },
      "outputs": [],
      "source": [
        "base_dir = \"/content/drive/MyDrive/Praktikum ML/Project Kelompok/output\""
      ]
    },
    {
      "cell_type": "code",
      "execution_count": null,
      "metadata": {
        "id": "MSyz-r8hIKuP",
        "colab": {
          "base_uri": "https://localhost:8080/",
          "height": 235
        },
        "outputId": "130a004e-e683-4ac2-a8d1-57230ad69703"
      },
      "outputs": [
        {
          "output_type": "error",
          "ename": "NameError",
          "evalue": "ignored",
          "traceback": [
            "\u001b[0;31m---------------------------------------------------------------------------\u001b[0m",
            "\u001b[0;31mNameError\u001b[0m                                 Traceback (most recent call last)",
            "\u001b[0;32m<ipython-input-4-b332d749e3fc>\u001b[0m in \u001b[0;36m<module>\u001b[0;34m()\u001b[0m\n\u001b[1;32m      1\u001b[0m \u001b[0;34m\u001b[0m\u001b[0m\n\u001b[0;32m----> 2\u001b[0;31m \u001b[0mtrain_dir\u001b[0m \u001b[0;34m=\u001b[0m \u001b[0mos\u001b[0m\u001b[0;34m.\u001b[0m\u001b[0mpath\u001b[0m\u001b[0;34m.\u001b[0m\u001b[0mjoin\u001b[0m\u001b[0;34m(\u001b[0m\u001b[0mbase_dir\u001b[0m\u001b[0;34m,\u001b[0m \u001b[0;34m'train'\u001b[0m\u001b[0;34m)\u001b[0m\u001b[0;34m\u001b[0m\u001b[0;34m\u001b[0m\u001b[0m\n\u001b[0m\u001b[1;32m      3\u001b[0m \u001b[0mval_dir\u001b[0m \u001b[0;34m=\u001b[0m \u001b[0mos\u001b[0m\u001b[0;34m.\u001b[0m\u001b[0mpath\u001b[0m\u001b[0;34m.\u001b[0m\u001b[0mjoin\u001b[0m\u001b[0;34m(\u001b[0m\u001b[0mbase_dir\u001b[0m\u001b[0;34m,\u001b[0m \u001b[0;34m'val'\u001b[0m\u001b[0;34m)\u001b[0m\u001b[0;34m\u001b[0m\u001b[0;34m\u001b[0m\u001b[0m\n\u001b[1;32m      4\u001b[0m \u001b[0mtest_dir\u001b[0m \u001b[0;34m=\u001b[0m \u001b[0mos\u001b[0m\u001b[0;34m.\u001b[0m\u001b[0mpath\u001b[0m\u001b[0;34m.\u001b[0m\u001b[0mjoin\u001b[0m\u001b[0;34m(\u001b[0m\u001b[0mbase_dir\u001b[0m\u001b[0;34m,\u001b[0m \u001b[0;34m'test'\u001b[0m\u001b[0;34m)\u001b[0m\u001b[0;34m\u001b[0m\u001b[0;34m\u001b[0m\u001b[0m\n\u001b[1;32m      5\u001b[0m \u001b[0;34m\u001b[0m\u001b[0m\n",
            "\u001b[0;31mNameError\u001b[0m: name 'os' is not defined"
          ]
        }
      ],
      "source": [
        "\n",
        "train_dir = os.path.join(base_dir, 'train')\n",
        "val_dir = os.path.join(base_dir, 'val')\n",
        "test_dir = os.path.join(base_dir, 'test')\n",
        "\n",
        "train_normal_dir = os.path.join(train_dir, 'NORMAL')\n",
        "train_pneumonia_dir = os.path.join(train_dir, 'PNEUMONIA')\n",
        "\n",
        "val_normal_dir = os.path.join(val_dir, 'NORMAL')\n",
        "val_pneumonia_dir = os.path.join(val_dir, 'PNEUMONIA')\n",
        "\n",
        "test_normal_dir = os.path.join(test_dir, 'NORMAL')\n",
        "test_pneumonia_dir = os.path.join(test_dir, 'PNEUMONIA')"
      ]
    },
    {
      "cell_type": "code",
      "execution_count": null,
      "metadata": {
        "id": "L0R47RDKIKyc",
        "colab": {
          "base_uri": "https://localhost:8080/"
        },
        "outputId": "2a9288b4-24a7-4dc0-c9f1-37903ebf2043"
      },
      "outputs": [
        {
          "output_type": "stream",
          "name": "stdout",
          "text": [
            "total training normal images: 1266\n",
            "total training pneumonia images: 3418\n",
            "total val normal images: 300\n",
            "total val pneumonia images: 811\n",
            "total test normal images: 17\n",
            "total test pneumonia images: 44\n"
          ]
        }
      ],
      "source": [
        "# Cek jumlah data train dan data validation\n",
        "print('total training normal images:', len(os.listdir(train_normal_dir)))\n",
        "print('total training pneumonia images:', len(os.listdir(train_pneumonia_dir)))\n",
        "print('total val normal images:', len(os.listdir(val_normal_dir)))\n",
        "print('total val pneumonia images:', len(os.listdir(val_pneumonia_dir)))\n",
        "print('total test normal images:', len(os.listdir(test_normal_dir)))\n",
        "print('total test pneumonia images:', len(os.listdir(test_pneumonia_dir)))"
      ]
    },
    {
      "cell_type": "code",
      "execution_count": null,
      "metadata": {
        "id": "c96-e1md5n5M"
      },
      "outputs": [],
      "source": [
        "api_token = {\"username\":\"qhistinj\",\"key\":\"f709ed7ce69d920f8a14f668fff276cd\"}\n",
        "import json\n",
        "import zipfile\n",
        "import os\n",
        "with open('kaggle.json', 'w') as file:\n",
        "    json.dump(api_token, file)"
      ]
    },
    {
      "cell_type": "code",
      "execution_count": null,
      "metadata": {
        "id": "xmmamIsI5n5i",
        "outputId": "ce9af9c1-7c41-461f-831e-f849d5a4f496",
        "colab": {
          "base_uri": "https://localhost:8080/"
        }
      },
      "outputs": [
        {
          "output_type": "stream",
          "name": "stdout",
          "text": [
            "Found 4684 images belonging to 2 classes.\n"
          ]
        }
      ],
      "source": [
        "from keras.preprocessing.image import ImageDataGenerator\n",
        "\n",
        "\n",
        "train_datagen = ImageDataGenerator(width_shift_range=0.2,\n",
        "                                   height_shift_range=0.2,\n",
        "                                   rescale=1./255,\n",
        "                                   shear_range=0.2,\n",
        "                                   zoom_range=0.8,\n",
        "                                   horizontal_flip=True,\n",
        "                                   fill_mode='nearest')\n",
        "\n",
        "training_set = train_datagen.flow_from_directory(\"output/train/\",\n",
        "                                                 target_size=(128,128),\n",
        "                                                 color_mode=\"rgb\",\n",
        "                                                 shuffle=False,\n",
        "                                                 batch_size = 16,\n",
        "                                                 class_mode='categorical')"
      ]
    },
    {
      "cell_type": "code",
      "execution_count": null,
      "metadata": {
        "id": "fNlOmqT45n5l",
        "outputId": "703fc8d7-7684-4861-eaa3-5df0a7dad49a",
        "colab": {
          "base_uri": "https://localhost:8080/"
        }
      },
      "outputs": [
        {
          "output_type": "stream",
          "name": "stdout",
          "text": [
            "Found 1111 images belonging to 2 classes.\n"
          ]
        }
      ],
      "source": [
        "validation_datagen = ImageDataGenerator(width_shift_range=0.2,\n",
        "                                        height_shift_range=0.2,\n",
        "                                        rescale=1./255,\n",
        "                                        shear_range=0.2,\n",
        "                                        zoom_range=0.8,\n",
        "                                        horizontal_flip=True,\n",
        "                                        fill_mode='nearest')\n",
        "\n",
        "validation_set = validation_datagen.flow_from_directory(\"output/val/\",\n",
        "                                                        target_size=(128,128),\n",
        "                                                        color_mode=\"rgb\",\n",
        "                                                        shuffle=False,\n",
        "                                                        batch_size = 16,\n",
        "                                                        class_mode='categorical')"
      ]
    },
    {
      "cell_type": "code",
      "execution_count": null,
      "metadata": {
        "id": "2aDYTTSU5n5o",
        "outputId": "f2cb4b03-c4a8-40f4-d943-6ce14bbca689",
        "colab": {
          "base_uri": "https://localhost:8080/"
        }
      },
      "outputs": [
        {
          "output_type": "stream",
          "name": "stdout",
          "text": [
            "Found 61 images belonging to 2 classes.\n"
          ]
        }
      ],
      "source": [
        "\n",
        "test_datagen = ImageDataGenerator(width_shift_range=0.2,\n",
        "                                        height_shift_range=0.2,\n",
        "                                        rescale=1./255,\n",
        "                                        shear_range=0.2,\n",
        "                                        zoom_range=0.8,\n",
        "                                        horizontal_flip=True,\n",
        "                                        fill_mode='nearest')\n",
        "\n",
        "test_set = validation_datagen.flow_from_directory(\"output/test/\",\n",
        "                                                        target_size=(128,128),\n",
        "                                                        color_mode=\"rgb\",\n",
        "                                                        shuffle=False,\n",
        "                                                        batch_size = 16,\n",
        "                                                        class_mode='categorical')"
      ]
    },
    {
      "cell_type": "code",
      "execution_count": null,
      "metadata": {
        "id": "qCAdPE8R5n5p"
      },
      "outputs": [],
      "source": [
        "# Pertama, kita import dulu library yang dibutuhkan\n",
        "from tensorflow.keras.models import Model\n",
        "from tensorflow.keras.layers import Dense, Flatten, Dropout, Input\n",
        "from tensorflow.keras.applications.vgg19 import VGG19"
      ]
    },
    {
      "cell_type": "code",
      "execution_count": null,
      "metadata": {
        "id": "uvGRHU1I5n5r",
        "colab": {
          "base_uri": "https://localhost:8080/"
        },
        "outputId": "810d1fcf-f04b-41db-967a-f75770a93533"
      },
      "outputs": [
        {
          "output_type": "stream",
          "name": "stdout",
          "text": [
            "Downloading data from https://storage.googleapis.com/tensorflow/keras-applications/vgg19/vgg19_weights_tf_dim_ordering_tf_kernels_notop.h5\n",
            "80142336/80134624 [==============================] - 0s 0us/step\n",
            "80150528/80134624 [==============================] - 0s 0us/step\n"
          ]
        }
      ],
      "source": [
        "# Kita load model VGG19, kemudian kita potong bagian Top atau Fully Connected Layernya\n",
        "baseModel = VGG19(include_top=False, input_tensor=Input(shape=(128, 128, 3)))\n",
        "\n",
        "# Untuk perintah menolak men training data yang telah digunakan sebelumnya\n",
        "for layer in baseModel.layers:\n",
        "  layer.trainable = False"
      ]
    },
    {
      "cell_type": "code",
      "execution_count": null,
      "metadata": {
        "id": "viuX-YVA5n5s"
      },
      "outputs": [],
      "source": [
        "categories = [\"NORMAL\", \"PNEUMONIA\"]\n",
        "\n",
        "x = Flatten()(baseModel.output)\n",
        "x = Dense(1000, activation='relu')(x)\n",
        "\n",
        "# Lapisan Terakhir dengan aktivasi softmax untuk output biner \n",
        "prediction = Dense(len(categories), activation='softmax')(x)"
      ]
    },
    {
      "cell_type": "code",
      "execution_count": null,
      "metadata": {
        "id": "gQY1kM745n5v",
        "outputId": "f84b9264-d142-494d-af2a-c2cb20c7c959",
        "colab": {
          "base_uri": "https://localhost:8080/"
        }
      },
      "outputs": [
        {
          "output_type": "stream",
          "name": "stdout",
          "text": [
            "Model: \"model\"\n",
            "_________________________________________________________________\n",
            " Layer (type)                Output Shape              Param #   \n",
            "=================================================================\n",
            " input_1 (InputLayer)        [(None, 128, 128, 3)]     0         \n",
            "                                                                 \n",
            " block1_conv1 (Conv2D)       (None, 128, 128, 64)      1792      \n",
            "                                                                 \n",
            " block1_conv2 (Conv2D)       (None, 128, 128, 64)      36928     \n",
            "                                                                 \n",
            " block1_pool (MaxPooling2D)  (None, 64, 64, 64)        0         \n",
            "                                                                 \n",
            " block2_conv1 (Conv2D)       (None, 64, 64, 128)       73856     \n",
            "                                                                 \n",
            " block2_conv2 (Conv2D)       (None, 64, 64, 128)       147584    \n",
            "                                                                 \n",
            " block2_pool (MaxPooling2D)  (None, 32, 32, 128)       0         \n",
            "                                                                 \n",
            " block3_conv1 (Conv2D)       (None, 32, 32, 256)       295168    \n",
            "                                                                 \n",
            " block3_conv2 (Conv2D)       (None, 32, 32, 256)       590080    \n",
            "                                                                 \n",
            " block3_conv3 (Conv2D)       (None, 32, 32, 256)       590080    \n",
            "                                                                 \n",
            " block3_conv4 (Conv2D)       (None, 32, 32, 256)       590080    \n",
            "                                                                 \n",
            " block3_pool (MaxPooling2D)  (None, 16, 16, 256)       0         \n",
            "                                                                 \n",
            " block4_conv1 (Conv2D)       (None, 16, 16, 512)       1180160   \n",
            "                                                                 \n",
            " block4_conv2 (Conv2D)       (None, 16, 16, 512)       2359808   \n",
            "                                                                 \n",
            " block4_conv3 (Conv2D)       (None, 16, 16, 512)       2359808   \n",
            "                                                                 \n",
            " block4_conv4 (Conv2D)       (None, 16, 16, 512)       2359808   \n",
            "                                                                 \n",
            " block4_pool (MaxPooling2D)  (None, 8, 8, 512)         0         \n",
            "                                                                 \n",
            " block5_conv1 (Conv2D)       (None, 8, 8, 512)         2359808   \n",
            "                                                                 \n",
            " block5_conv2 (Conv2D)       (None, 8, 8, 512)         2359808   \n",
            "                                                                 \n",
            " block5_conv3 (Conv2D)       (None, 8, 8, 512)         2359808   \n",
            "                                                                 \n",
            " block5_conv4 (Conv2D)       (None, 8, 8, 512)         2359808   \n",
            "                                                                 \n",
            " block5_pool (MaxPooling2D)  (None, 4, 4, 512)         0         \n",
            "                                                                 \n",
            " flatten (Flatten)           (None, 8192)              0         \n",
            "                                                                 \n",
            " dense (Dense)               (None, 1000)              8193000   \n",
            "                                                                 \n",
            " dense_1 (Dense)             (None, 2)                 2002      \n",
            "                                                                 \n",
            "=================================================================\n",
            "Total params: 28,219,386\n",
            "Trainable params: 8,195,002\n",
            "Non-trainable params: 20,024,384\n",
            "_________________________________________________________________\n"
          ]
        }
      ],
      "source": [
        "# Membuat obbjek model \n",
        "model = Model(inputs=baseModel.input, outputs=prediction)\n",
        "\n",
        "# Melihat struktur model\n",
        "model.summary()"
      ]
    },
    {
      "cell_type": "code",
      "execution_count": null,
      "metadata": {
        "id": "pTw3g3ZW5n5w"
      },
      "outputs": [],
      "source": [
        "# tell the model what cost and optimization method to use\n",
        "model.compile(\n",
        "  loss='binary_crossentropy',\n",
        "  optimizer='adam',\n",
        "  metrics=['accuracy']\n",
        ")"
      ]
    },
    {
      "cell_type": "code",
      "execution_count": null,
      "metadata": {
        "id": "Z5jddsHp5n5y"
      },
      "outputs": [],
      "source": [
        "train_datagen = ImageDataGenerator(rescale = 1./255,\n",
        "                                   shear_range = 0.2,\n",
        "                                   zoom_range = 0.8,\n",
        "                                   horizontal_flip = True)\n",
        "\n",
        "test_datagen = ImageDataGenerator(rescale = 1./255)"
      ]
    },
    {
      "cell_type": "code",
      "execution_count": null,
      "metadata": {
        "id": "_PQ5ufgP5n50",
        "outputId": "b5f8d75e-36fd-4c08-d096-f0c41240bb05",
        "colab": {
          "base_uri": "https://localhost:8080/"
        }
      },
      "outputs": [
        {
          "output_type": "stream",
          "name": "stdout",
          "text": [
            "Found 4684 images belonging to 2 classes.\n",
            "Found 61 images belonging to 2 classes.\n"
          ]
        }
      ],
      "source": [
        "training_set = train_datagen.flow_from_directory(\"output/train\",\n",
        "                                                 target_size = (128, 128),\n",
        "                                                 batch_size = 16,\n",
        "                                                 class_mode = 'categorical')\n",
        "\n",
        "test_set = test_datagen.flow_from_directory(\"output/test\",\n",
        "                                            target_size = (128, 128),\n",
        "                                            batch_size = 16,\n",
        "                                            class_mode = 'categorical')"
      ]
    },
    {
      "cell_type": "code",
      "execution_count": null,
      "metadata": {
        "id": "eTHmJY5I5n51",
        "outputId": "d3c52818-a0ab-4ea7-ed57-2117bb824d42",
        "colab": {
          "base_uri": "https://localhost:8080/"
        }
      },
      "outputs": [
        {
          "output_type": "stream",
          "name": "stderr",
          "text": [
            "/usr/local/lib/python3.7/dist-packages/ipykernel_launcher.py:7: UserWarning: `Model.fit_generator` is deprecated and will be removed in a future version. Please use `Model.fit`, which supports generators.\n",
            "  import sys\n"
          ]
        },
        {
          "output_type": "stream",
          "name": "stdout",
          "text": [
            "Epoch 1/30\n",
            "293/293 [==============================] - 803s 3s/step - loss: 0.3981 - accuracy: 0.8397 - val_loss: 0.2829 - val_accuracy: 0.8525\n",
            "Epoch 2/30\n",
            "293/293 [==============================] - 71s 242ms/step - loss: 0.2874 - accuracy: 0.8762 - val_loss: 0.1924 - val_accuracy: 0.9180\n",
            "Epoch 3/30\n",
            "293/293 [==============================] - 71s 242ms/step - loss: 0.2780 - accuracy: 0.8796 - val_loss: 0.2115 - val_accuracy: 0.9180\n",
            "Epoch 4/30\n",
            "293/293 [==============================] - 71s 243ms/step - loss: 0.2537 - accuracy: 0.8947 - val_loss: 0.2297 - val_accuracy: 0.9016\n",
            "Epoch 5/30\n",
            "293/293 [==============================] - 71s 241ms/step - loss: 0.2720 - accuracy: 0.8811 - val_loss: 0.1595 - val_accuracy: 0.9508\n",
            "Epoch 6/30\n",
            "293/293 [==============================] - 71s 241ms/step - loss: 0.2556 - accuracy: 0.8926 - val_loss: 0.2091 - val_accuracy: 0.9344\n",
            "Epoch 7/30\n",
            "293/293 [==============================] - 71s 241ms/step - loss: 0.2470 - accuracy: 0.8962 - val_loss: 0.2110 - val_accuracy: 0.8689\n",
            "Epoch 8/30\n",
            "293/293 [==============================] - 71s 242ms/step - loss: 0.2364 - accuracy: 0.9031 - val_loss: 0.1668 - val_accuracy: 0.9508\n",
            "Epoch 9/30\n",
            "293/293 [==============================] - 71s 242ms/step - loss: 0.2382 - accuracy: 0.8988 - val_loss: 0.2789 - val_accuracy: 0.8361\n",
            "Epoch 10/30\n",
            "293/293 [==============================] - 71s 241ms/step - loss: 0.2279 - accuracy: 0.9037 - val_loss: 0.2472 - val_accuracy: 0.8852\n",
            "Epoch 11/30\n",
            "293/293 [==============================] - 71s 243ms/step - loss: 0.2342 - accuracy: 0.9018 - val_loss: 0.1807 - val_accuracy: 0.9016\n",
            "Epoch 12/30\n",
            "293/293 [==============================] - 72s 244ms/step - loss: 0.2386 - accuracy: 0.9029 - val_loss: 0.1786 - val_accuracy: 0.9016\n",
            "Epoch 13/30\n",
            "293/293 [==============================] - 71s 243ms/step - loss: 0.2316 - accuracy: 0.9078 - val_loss: 0.1714 - val_accuracy: 0.9672\n",
            "Epoch 14/30\n",
            "293/293 [==============================] - 71s 242ms/step - loss: 0.2275 - accuracy: 0.9073 - val_loss: 0.1898 - val_accuracy: 0.9344\n",
            "Epoch 15/30\n",
            "293/293 [==============================] - 72s 244ms/step - loss: 0.2182 - accuracy: 0.9099 - val_loss: 0.1998 - val_accuracy: 0.9180\n",
            "Epoch 16/30\n",
            "293/293 [==============================] - 71s 242ms/step - loss: 0.2274 - accuracy: 0.9061 - val_loss: 0.1756 - val_accuracy: 0.9344\n",
            "Epoch 17/30\n",
            "293/293 [==============================] - 72s 246ms/step - loss: 0.2125 - accuracy: 0.9133 - val_loss: 0.1952 - val_accuracy: 0.9508\n",
            "Epoch 18/30\n",
            "293/293 [==============================] - 70s 240ms/step - loss: 0.2269 - accuracy: 0.9067 - val_loss: 0.1735 - val_accuracy: 0.9344\n",
            "Epoch 19/30\n",
            "293/293 [==============================] - 71s 241ms/step - loss: 0.2203 - accuracy: 0.9080 - val_loss: 0.1734 - val_accuracy: 0.9344\n",
            "Epoch 20/30\n",
            "293/293 [==============================] - 72s 246ms/step - loss: 0.2206 - accuracy: 0.9069 - val_loss: 0.1667 - val_accuracy: 0.9344\n",
            "Epoch 21/30\n",
            "293/293 [==============================] - 71s 241ms/step - loss: 0.2143 - accuracy: 0.9120 - val_loss: 0.2020 - val_accuracy: 0.9180\n",
            "Epoch 22/30\n",
            "293/293 [==============================] - 71s 244ms/step - loss: 0.2204 - accuracy: 0.9112 - val_loss: 0.2533 - val_accuracy: 0.8525\n",
            "Epoch 23/30\n",
            "293/293 [==============================] - 71s 242ms/step - loss: 0.2149 - accuracy: 0.9118 - val_loss: 0.1614 - val_accuracy: 0.9672\n",
            "Epoch 24/30\n",
            "293/293 [==============================] - 71s 241ms/step - loss: 0.2089 - accuracy: 0.9137 - val_loss: 0.1764 - val_accuracy: 0.9180\n",
            "Epoch 25/30\n",
            "293/293 [==============================] - 71s 241ms/step - loss: 0.2110 - accuracy: 0.9170 - val_loss: 0.1808 - val_accuracy: 0.9016\n",
            "Epoch 26/30\n",
            "293/293 [==============================] - 71s 242ms/step - loss: 0.2082 - accuracy: 0.9144 - val_loss: 0.1789 - val_accuracy: 0.9180\n",
            "Epoch 27/30\n",
            "293/293 [==============================] - 71s 241ms/step - loss: 0.2013 - accuracy: 0.9174 - val_loss: 0.1645 - val_accuracy: 0.9016\n",
            "Epoch 28/30\n",
            "293/293 [==============================] - 71s 242ms/step - loss: 0.1994 - accuracy: 0.9187 - val_loss: 0.1913 - val_accuracy: 0.9508\n",
            "Epoch 29/30\n",
            "293/293 [==============================] - 71s 243ms/step - loss: 0.2027 - accuracy: 0.9206 - val_loss: 0.2205 - val_accuracy: 0.9344\n",
            "Epoch 30/30\n",
            "293/293 [==============================] - 71s 242ms/step - loss: 0.2049 - accuracy: 0.9140 - val_loss: 0.2318 - val_accuracy: 0.9344\n"
          ]
        }
      ],
      "source": [
        "# Mencocokan model\n",
        "r = model.fit_generator(\n",
        "  training_set,\n",
        "  validation_data=test_set,\n",
        "  epochs=30,\n",
        "  steps_per_epoch=len(training_set),\n",
        "  validation_steps=len(test_set)\n",
        ")"
      ]
    },
    {
      "cell_type": "code",
      "execution_count": null,
      "metadata": {
        "id": "e0wpAU1G5n53"
      },
      "outputs": [],
      "source": [
        "import numpy as np\n",
        "xts, yts = zip(*(test_set[i] for i in range(len(test_set))))\n",
        "x_test, y_test = np.vstack(xts), np.vstack(yts )"
      ]
    },
    {
      "cell_type": "code",
      "execution_count": null,
      "metadata": {
        "id": "AcUhpu-r5n54",
        "outputId": "d98bff7e-e18d-47d9-a1f9-aa94b95f8f1d",
        "colab": {
          "base_uri": "https://localhost:8080/"
        }
      },
      "outputs": [
        {
          "output_type": "stream",
          "name": "stdout",
          "text": [
            "              precision    recall  f1-score   support\n",
            "\n",
            "           0       0.81      1.00      0.89        17\n",
            "           1       1.00      0.91      0.95        44\n",
            "\n",
            "   micro avg       0.93      0.93      0.93        61\n",
            "   macro avg       0.90      0.95      0.92        61\n",
            "weighted avg       0.95      0.93      0.94        61\n",
            " samples avg       0.93      0.93      0.93        61\n",
            "\n",
            "[[0 1]\n",
            " [1 0]\n",
            " [0 1]\n",
            " [1 0]\n",
            " [1 0]\n",
            " [0 1]\n",
            " [1 0]\n",
            " [1 0]\n",
            " [0 1]\n",
            " [0 1]\n",
            " [1 0]\n",
            " [0 1]\n",
            " [0 1]\n",
            " [1 0]\n",
            " [0 1]\n",
            " [0 1]\n",
            " [0 1]\n",
            " [1 0]\n",
            " [1 0]\n",
            " [0 1]\n",
            " [0 1]\n",
            " [1 0]\n",
            " [0 1]\n",
            " [0 1]\n",
            " [0 1]\n",
            " [0 1]\n",
            " [0 1]\n",
            " [1 0]\n",
            " [0 1]\n",
            " [0 1]\n",
            " [0 1]\n",
            " [0 1]\n",
            " [0 1]\n",
            " [0 1]\n",
            " [1 0]\n",
            " [0 1]\n",
            " [0 1]\n",
            " [0 1]\n",
            " [1 0]\n",
            " [0 1]\n",
            " [1 0]\n",
            " [0 1]\n",
            " [0 1]\n",
            " [0 1]\n",
            " [1 0]\n",
            " [0 1]\n",
            " [0 1]\n",
            " [1 0]\n",
            " [1 0]\n",
            " [0 1]\n",
            " [1 0]\n",
            " [0 1]\n",
            " [0 1]\n",
            " [0 1]\n",
            " [1 0]\n",
            " [0 1]\n",
            " [0 1]\n",
            " [1 0]\n",
            " [0 1]\n",
            " [0 1]\n",
            " [1 0]]\n"
          ]
        }
      ],
      "source": [
        "from sklearn.metrics import classification_report, confusion_matrix\n",
        "pred = model.predict(x_test)\n",
        "labels = (pred > 0.5).astype(np.int)\n",
        "\n",
        "print(classification_report(y_test, labels))\n",
        "print(labels)"
      ]
    },
    {
      "cell_type": "code",
      "execution_count": null,
      "metadata": {
        "id": "RjX0bjbG5n55",
        "outputId": "da5ebaf0-dda2-485e-e015-2b3c25c3d935",
        "colab": {
          "base_uri": "https://localhost:8080/"
        }
      },
      "outputs": [
        {
          "output_type": "stream",
          "name": "stdout",
          "text": [
            "Requirement already satisfied: matplotlib in /usr/local/lib/python3.7/dist-packages (3.2.2)\n",
            "Requirement already satisfied: kiwisolver>=1.0.1 in /usr/local/lib/python3.7/dist-packages (from matplotlib) (1.3.2)\n",
            "Requirement already satisfied: numpy>=1.11 in /usr/local/lib/python3.7/dist-packages (from matplotlib) (1.19.5)\n",
            "Requirement already satisfied: cycler>=0.10 in /usr/local/lib/python3.7/dist-packages (from matplotlib) (0.11.0)\n",
            "Requirement already satisfied: pyparsing!=2.0.4,!=2.1.2,!=2.1.6,>=2.0.1 in /usr/local/lib/python3.7/dist-packages (from matplotlib) (3.0.6)\n",
            "Requirement already satisfied: python-dateutil>=2.1 in /usr/local/lib/python3.7/dist-packages (from matplotlib) (2.8.2)\n",
            "Requirement already satisfied: six>=1.5 in /usr/local/lib/python3.7/dist-packages (from python-dateutil>=2.1->matplotlib) (1.15.0)\n"
          ]
        }
      ],
      "source": [
        "pip install matplotlib"
      ]
    },
    {
      "cell_type": "code",
      "execution_count": null,
      "metadata": {
        "id": "DkfLEj2q5n57",
        "outputId": "62f4b0c3-a3fe-494d-bfea-408e5b10febc",
        "colab": {
          "base_uri": "https://localhost:8080/",
          "height": 299
        }
      },
      "outputs": [
        {
          "output_type": "display_data",
          "data": {
            "image/png": "[encoded data removed]",
            "text/plain": [
              "<Figure size 432x288 with 1 Axes>"
            ]
          },
          "metadata": {}
        }
      ],
      "source": [
        "# plot training and validation accuracy values\n",
        "plt.plot(r.history['accuracy'])\n",
        "plt.plot(r.history['val_accuracy'])\n",
        "plt.title('Model accuracy')\n",
        "plt.xlabel('Epoch')\n",
        "plt.ylabel('Accuracy')\n",
        "plt.legend(['Train', 'Val'], loc = 'upper left')\n",
        "plt.show()"
      ]
    },
    {
      "cell_type": "code",
      "source": [
        "\n",
        "# plot training and validation loss values\n",
        "plt.plot(r.history['loss'])\n",
        "plt.plot(r.history['val_loss'])\n",
        "plt.title('Model loss')\n",
        "plt.xlabel('Epoch')\n",
        "plt.ylabel('Loss')\n",
        "plt.legend(['Train', 'Val'], loc = 'upper left')\n",
        "plt.show()"
      ],
      "metadata": {
        "colab": {
          "base_uri": "https://localhost:8080/",
          "height": 299
        },
        "id": "C6wFuUFy4USX",
        "outputId": "72d58cb9-2782-48cb-f6fa-ac39d3ba3ce1"
      },
      "execution_count": null,
      "outputs": [
        {
          "output_type": "display_data",
          "data": {
            "image/png": "[encoded data removed]",
            "text/plain": [
              "<Figure size 432x288 with 1 Axes>"
            ]
          },
          "metadata": {}
        }
      ]
    },
    {
      "cell_type": "code",
      "source": [
        "model.save('/content/drive/MyDrive/Praktikum ML/Project Kelompok/xray2_model.h5')"
      ],
      "metadata": {
        "id": "wLy-7FNt5U1M"
      },
      "execution_count": null,
      "outputs": []
    },
    {
      "cell_type": "code",
      "source": [
        "from tensorflow.keras.models import load_model\n",
        "from PIL import Image\n",
        "import time\n",
        "\n",
        "class FeatureExtractor:\n",
        "    def __init__(self, model):\n",
        "        self.model = model\n",
        "    \n",
        "    def extract(self, img):\n",
        "        img = img.resize((224, 224))\n",
        "        img = img.convert('RGB')\n",
        "        \n",
        "        x = image.img_to_array(img)\n",
        "        x = np.expand_dims(x, axis=0)\n",
        "        x = preprocess_input(x)\n",
        "        \n",
        "        feature = self.model.predict(x)[0]\n",
        "        \n",
        "        return feature / np.linalg.norm(feature)\n",
        "\n",
        "fe = FeatureExtractor(load_model('/content/drive/MyDrive/Praktikum ML/Project Kelompok/xray2_model.h5', compile=False))"
      ],
      "metadata": {
        "id": "TdTuwTzL41kN"
      },
      "execution_count": null,
      "outputs": []
    },
    {
      "cell_type": "code",
      "source": [
        "# class FeatureExtractor:\n",
        "#     def __init__(self, model):\n",
        "#         self.model = model\n",
        "    \n",
        "#     def extract(self, img):\n",
        "#         img = img.resize((224, 224))\n",
        "#         img = img.convert('RGB')\n",
        "        \n",
        "#         x = image.img_to_array(img)\n",
        "#         x = np.expand_dims(x, axis=0)\n",
        "#         x = preprocess_input(x)\n",
        "        \n",
        "#         feature = self.model.predict(x)[0]\n",
        "        \n",
        "#         return feature / np.linalg.norm(feature)\n",
        "\n",
        "fe = load_model('/content/drive/MyDrive/Praktikum ML/Project Kelompok/xray2_model.h5')"
      ],
      "metadata": {
        "id": "nl1Z1yQx7ei0"
      },
      "execution_count": null,
      "outputs": []
    },
    {
      "cell_type": "code",
      "source": [
        "mkdir extract"
      ],
      "metadata": {
        "id": "avKXZp298RI9"
      },
      "execution_count": null,
      "outputs": []
    },
    {
      "cell_type": "code",
      "source": [
        "from random import shuffle\n",
        "\n",
        "target_dir = '/content/drive/MyDrive/Praktikum ML/Project Kelompok/resize'\n",
        "\n",
        "shuffle(train_normal_dir)\n",
        "shuffle(train_pneumonia_dir)\n",
        "\n",
        "for i, img_path in enumerate(norm_img_dir):\n",
        "    image = cv2.imread(img_path)\n",
        "    image = cv2.resize(image, (180,180))\n",
        "\n",
        "    file_name = f\"normal-{i + 1}.jpeg\"\n",
        "    dest = os.path.join(target_dir, file_name)\n",
        "    \n",
        "    cv2.imwrite(dest, image)\n",
        "\n",
        "for i, img_path in enumerate(pneu_img_dir):\n",
        "    image = cv2.imread(img_path)\n",
        "    image = cv2.resize(image, (180,180))\n",
        "\n",
        "    file_name = f\"pneumonia-{i + 1}.jpeg\"\n",
        "    dest = os.path.join(target_dir, file_name)\n",
        "    \n",
        "    cv2.imwrite(dest, image)"
      ],
      "metadata": {
        "id": "Y4xloC3LbDSU"
      },
      "execution_count": null,
      "outputs": []
    },
    {
      "cell_type": "code",
      "source": [
        "base_dir = '/content/drive/MyDrive/Praktikum ML/Project Kelompok/output'\n",
        "feature_dir = '/content/drive/MyDrive/Praktikum ML/Project Kelompok/extract'\n",
        "\n",
        "img_paths = list()\n",
        "features = list()\n",
        "\n",
        "for img_path in sorted(Path(base_dir).glob(\"*.jpeg\")):\n",
        "    img_paths.append(img_path)\n",
        "    feature = fe.extract(img=Image.open(img_path))\n",
        "    features.append(feature)\n",
        "\n",
        "features = np.array(features)\n",
        "np.save(feature_dir + '/extracted_feature.npy', features)"
      ],
      "metadata": {
        "id": "BHKwvGk2bF3P"
      },
      "execution_count": null,
      "outputs": []
    },
    {
      "cell_type": "code",
      "source": [
        "import matplotlib.pyplot as plt\n",
        "import numpy as np\n",
        "import os\n",
        "\n",
        "query_image = img_paths[150]\n",
        "img = Image.open(query_image)\n",
        "\n",
        "query = fe.extract(img)\n",
        "\n",
        "dists = np.linalg.norm(features - query, axis=1)\n",
        "\n",
        "# Extract 9 images that have lowest distance\n",
        "ids = np.argsort(dists)[:12]\n",
        "scores = [(dists[id], img_paths[id]) for id in ids]\n",
        "\n",
        "# Visualize the result\n",
        "axes = list()\n",
        "fig = plt.figure(figsize=(8,8))\n",
        "\n",
        "for a in range(3 * 3):\n",
        "    axes.append(fig.add_subplot(3, 3, a+1))\n",
        "\n",
        "    score = scores[a]\n",
        "\n",
        "    nama_citra = os.path.basename(score[1])\n",
        "\n",
        "    subplot_title = str(score[0]) + f\"\\n{nama_citra}\"\n",
        "    axes[-1].set_title(subplot_title)  \n",
        "\n",
        "    plt.axis('off')\n",
        "    plt.imshow(Image.open(score[1]))\n",
        "\n",
        "fig.tight_layout()\n",
        "plt.show()"
      ],
      "metadata": {
        "id": "hg7YfVV67vBP"
      },
      "execution_count": null,
      "outputs": []
    }
  ],
  "metadata": {
    "colab": {
      "name": "CNN.ipynb",
      "provenance": [],
      "collapsed_sections": []
    },
    "kernelspec": {
      "display_name": "Python 3",
      "language": "python",
      "name": "python3"
    },
    "language_info": {
      "codemirror_mode": {
        "name": "ipython",
        "version": 3
      },
      "file_extension": ".py",
      "mimetype": "text/x-python",
      "name": "python",
      "nbconvert_exporter": "python",
      "pygments_lexer": "ipython3",
      "version": "3.8.3"
    },
    "accelerator": "GPU"
  },
  "nbformat": 4,
  "nbformat_minor": 0
}